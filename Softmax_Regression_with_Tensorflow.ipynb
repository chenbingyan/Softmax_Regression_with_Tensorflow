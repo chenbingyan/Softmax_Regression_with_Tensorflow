{
 "cells": [
  {
   "cell_type": "markdown",
   "metadata": {},
   "source": [
    "# Softmax_Regression_with_Tensorflow\n",
    "* by:陈炳炎(bjchenbingyan@126.com)\n",
    "* blog: http://www.intelligentdata.cn/\n",
    "\n",
    "\n",
    "先前我们实现一个简易的回归模型，该回归模型输出的值是连续值，因此回归模型适用于预测数值型数据。但是现实中，很多问题是分类问题，我们可以通过对回归模型的进一步升级为logsistic回归，使其适用于分类问题。但是传统的logistic回归模型适用于二分类问题，为了满足多分类问题的要求，可以将logistic回归进一步推广到适用于多分类问题的softmax回归。\n",
    "\n",
    "具体办法让回归模型有多个输出（该输出数目与类别数相同），然后接入一层softmax层进行交叉熵计算，从而改变输出的概率分布。通过比较该分布的输出来确定模型预测的具体类别。\n",
    "softmax函数：\n",
    "![softmax function](softmax_regression_img/softmax.jpg)\n",
    "\n",
    "本项目利用softmax regression算法对机器学习经典的手写数字数据集MNIST进行分类。\n",
    "MNIST由数万张28×28像素的手写数字组成，这些图片只包含灰度值信息。我们的任务是将这些图片分成0-9十个类别。"
   ]
  },
  {
   "cell_type": "code",
   "execution_count": 1,
   "metadata": {
    "collapsed": false
   },
   "outputs": [],
   "source": [
    "import numpy as np\n",
    "import tensorflow as tf\n",
    "import matplotlib.pyplot as plt\n",
    "# 使用tensorflow中的input_data模块导入数据\n",
    "from tensorflow.examples.tutorials.mnist import input_data"
   ]
  },
  {
   "cell_type": "markdown",
   "metadata": {},
   "source": [
    "## 1.导入数据，探索数据结构"
   ]
  },
  {
   "cell_type": "code",
   "execution_count": 2,
   "metadata": {
    "collapsed": false
   },
   "outputs": [
    {
     "name": "stdout",
     "output_type": "stream",
     "text": [
      "Extracting ./data/mnist_data\\train-images-idx3-ubyte.gz\n",
      "Extracting ./data/mnist_data\\train-labels-idx1-ubyte.gz\n",
      "Extracting ./data/mnist_data\\t10k-images-idx3-ubyte.gz\n",
      "Extracting ./data/mnist_data\\t10k-labels-idx1-ubyte.gz\n"
     ]
    }
   ],
   "source": [
    "# 导入数据，如果指定路径没有数据，tensorflow会自动下载，但由于网络原因经常无法下载成功，因此可以自己下载后放到该路径下\n",
    "# label为独热编码（onehot encoding）\n",
    "mnist = input_data.read_data_sets('./data/mnist_data', one_hot=True)"
   ]
  },
  {
   "cell_type": "code",
   "execution_count": 3,
   "metadata": {
    "collapsed": false,
    "scrolled": true
   },
   "outputs": [
    {
     "name": "stdout",
     "output_type": "stream",
     "text": [
      "Training data shape:\t (55000, 784)\n",
      "Training labels shape:\t (55000, 10)\n",
      "Validation data shape:\t (5000, 784)\n",
      "Validation labels shape:\t (5000, 10)\n",
      "Testing data shape:\t (10000, 784)\n",
      "Testing labels shape:\t (10000, 10)\n"
     ]
    }
   ],
   "source": [
    "# 打印MNIST数据集的相关信息\n",
    "print('Training data shape:\\t', mnist.train.images.shape)\n",
    "print('Training labels shape:\\t', mnist.train.labels.shape)\n",
    "print('Validation data shape:\\t', mnist.validation.images.shape)\n",
    "print('Validation labels shape:\\t', mnist.validation.labels.shape)\n",
    "print('Testing data shape:\\t', mnist.test.images.shape)\n",
    "print('Testing labels shape:\\t', mnist.test.labels.shape)"
   ]
  },
  {
   "cell_type": "markdown",
   "metadata": {},
   "source": [
    "## 2. 定义计算公式损失函数\n",
    "\n",
    "定义计算公式，即按照softmax regression的训练步骤定义各步的数据。\n",
    "对于损失函数，一般选用交叉熵来评估多分类问题的模型好坏。cross-entropy的公式如下：\n",
    "![cross-entropy](softmax_regression_img/cross-entropy.jpg)"
   ]
  },
  {
   "cell_type": "code",
   "execution_count": 5,
   "metadata": {
    "collapsed": false
   },
   "outputs": [],
   "source": [
    "# 定义两个placeholder分别用于保存image和label信息：None表示输入图片数量未知，784表示一张图片有784像素\n",
    "x = tf.placeholder('float', [None, 784])\n",
    "y = tf.placeholder('float', [None, 10])\n",
    "# 定于W和b分别用于保存模型权重，其中W的维度是[784, 10]（因为一张图片有784列），b的维度是[10, 1]\n",
    "W = tf.Variable(tf.zeros([784, 10]))\n",
    "b = tf.Variable(tf.zeros([10]))\n",
    "# softmax regression model\n",
    "y_pred = tf.nn.softmax(tf.matmul(x, W) + b)\n",
    "# cost function: cross entropy（交叉熵）\n",
    "cross_entropy = tf.reduce_mean(-tf.reduce_sum(y * tf.log(y_pred), reduction_indices=1))\n",
    "# 定义optimiizer：使用梯度下降法进行优化\n",
    "learning_rate = 0.1\n",
    "optimizer = tf.train.GradientDescentOptimizer(learning_rate).minimize(cross_entropy)"
   ]
  },
  {
   "cell_type": "code",
   "execution_count": 6,
   "metadata": {
    "collapsed": false
   },
   "outputs": [],
   "source": [
    "# prediction\n",
    "# argmax返回tensor中最大值的序列，1代表列\n",
    "prediction = tf.equal(tf.argmax(y_pred, 1), tf.arg_max(y, 1))\n",
    "# accuracy\n",
    "# 将bool值转为float32的数据，以便计算准确率\n",
    "accuracy = tf.reduce_mean(tf.cast(prediction, tf.float32))\n",
    "# initializer\n",
    "init = tf.global_variables_initializer()"
   ]
  },
  {
   "cell_type": "markdown",
   "metadata": {},
   "source": [
    "## 对数据进行迭代训练"
   ]
  },
  {
   "cell_type": "code",
   "execution_count": 12,
   "metadata": {
    "collapsed": false
   },
   "outputs": [
    {
     "name": "stdout",
     "output_type": "stream",
     "text": [
      "Epoch: 000/500 cost: 0.526277160 train_acc: 0.920 test_acc: 0.903\n",
      "Epoch: 010/500 cost: 0.276526231 train_acc: 0.880 test_acc: 0.921\n",
      "Epoch: 020/500 cost: 0.259532402 train_acc: 0.980 test_acc: 0.923\n",
      "Epoch: 030/500 cost: 0.251236627 train_acc: 0.930 test_acc: 0.924\n",
      "Epoch: 040/500 cost: 0.245885644 train_acc: 0.900 test_acc: 0.924\n",
      "Epoch: 050/500 cost: 0.240467963 train_acc: 0.910 test_acc: 0.924\n",
      "Epoch: 060/500 cost: 0.240310103 train_acc: 0.960 test_acc: 0.925\n",
      "Epoch: 070/500 cost: 0.237225443 train_acc: 0.940 test_acc: 0.925\n",
      "Epoch: 080/500 cost: 0.238478543 train_acc: 0.930 test_acc: 0.925\n",
      "Epoch: 090/500 cost: 0.236743390 train_acc: 0.930 test_acc: 0.926\n",
      "Epoch: 100/500 cost: 0.231117153 train_acc: 0.970 test_acc: 0.926\n",
      "Epoch: 110/500 cost: 0.233455260 train_acc: 0.930 test_acc: 0.927\n",
      "Epoch: 120/500 cost: 0.232208499 train_acc: 0.960 test_acc: 0.926\n",
      "Epoch: 130/500 cost: 0.230553993 train_acc: 0.930 test_acc: 0.925\n",
      "Epoch: 140/500 cost: 0.230113124 train_acc: 0.940 test_acc: 0.926\n",
      "Epoch: 150/500 cost: 0.228212153 train_acc: 0.940 test_acc: 0.926\n",
      "Epoch: 160/500 cost: 0.227703397 train_acc: 0.910 test_acc: 0.925\n",
      "Epoch: 170/500 cost: 0.226918590 train_acc: 0.940 test_acc: 0.926\n",
      "Epoch: 180/500 cost: 0.228884819 train_acc: 0.930 test_acc: 0.927\n",
      "Epoch: 190/500 cost: 0.224387623 train_acc: 0.930 test_acc: 0.926\n",
      "Epoch: 200/500 cost: 0.228230333 train_acc: 0.950 test_acc: 0.926\n",
      "Epoch: 210/500 cost: 0.224499512 train_acc: 0.940 test_acc: 0.926\n",
      "Epoch: 220/500 cost: 0.225048903 train_acc: 0.940 test_acc: 0.927\n",
      "Epoch: 230/500 cost: 0.222652719 train_acc: 0.900 test_acc: 0.926\n",
      "Epoch: 240/500 cost: 0.224914814 train_acc: 0.890 test_acc: 0.926\n",
      "Epoch: 250/500 cost: 0.223124772 train_acc: 0.950 test_acc: 0.925\n",
      "Epoch: 260/500 cost: 0.221947771 train_acc: 0.940 test_acc: 0.926\n",
      "Epoch: 270/500 cost: 0.225553126 train_acc: 0.920 test_acc: 0.927\n",
      "Epoch: 280/500 cost: 0.223176981 train_acc: 0.930 test_acc: 0.926\n",
      "Epoch: 290/500 cost: 0.221500478 train_acc: 0.960 test_acc: 0.927\n",
      "Epoch: 300/500 cost: 0.221922942 train_acc: 0.900 test_acc: 0.927\n",
      "Epoch: 310/500 cost: 0.222862744 train_acc: 0.960 test_acc: 0.926\n",
      "Epoch: 320/500 cost: 0.220429594 train_acc: 0.890 test_acc: 0.926\n",
      "Epoch: 330/500 cost: 0.218376838 train_acc: 0.930 test_acc: 0.927\n",
      "Epoch: 340/500 cost: 0.222057528 train_acc: 0.930 test_acc: 0.926\n",
      "Epoch: 350/500 cost: 0.220058012 train_acc: 0.930 test_acc: 0.928\n",
      "Epoch: 360/500 cost: 0.219942445 train_acc: 0.960 test_acc: 0.927\n",
      "Epoch: 370/500 cost: 0.219537355 train_acc: 0.970 test_acc: 0.926\n",
      "Epoch: 380/500 cost: 0.219584678 train_acc: 0.930 test_acc: 0.927\n",
      "Epoch: 390/500 cost: 0.220044561 train_acc: 0.980 test_acc: 0.926\n",
      "Epoch: 400/500 cost: 0.217607177 train_acc: 0.970 test_acc: 0.926\n",
      "Epoch: 410/500 cost: 0.219102783 train_acc: 0.940 test_acc: 0.927\n",
      "Epoch: 420/500 cost: 0.220367410 train_acc: 1.000 test_acc: 0.926\n",
      "Epoch: 430/500 cost: 0.217674006 train_acc: 0.930 test_acc: 0.926\n",
      "Epoch: 440/500 cost: 0.221235265 train_acc: 0.940 test_acc: 0.927\n",
      "Epoch: 450/500 cost: 0.220486333 train_acc: 0.940 test_acc: 0.925\n",
      "Epoch: 460/500 cost: 0.215361535 train_acc: 0.920 test_acc: 0.925\n",
      "Epoch: 470/500 cost: 0.217222680 train_acc: 0.950 test_acc: 0.926\n",
      "Epoch: 480/500 cost: 0.220026519 train_acc: 0.960 test_acc: 0.927\n",
      "Epoch: 490/500 cost: 0.217931987 train_acc: 0.920 test_acc: 0.926\n"
     ]
    }
   ],
   "source": [
    "epochs = 500\n",
    "batch_size = 100\n",
    "# Session\n",
    "sess = tf.Session()\n",
    "sess.run(init)\n",
    "\n",
    "# 迭代500个epochs\n",
    "# 对每个epoch，按每100个样本为一个batch_size进行迭代训练\n",
    "for epoch in range(epochs):\n",
    "    avg_cost= 0.\n",
    "    # 计算batch数量\n",
    "    num_batch = int(mnist.train.num_examples / batch_size)\n",
    "    for i in range(num_batch):\n",
    "        # 获取每个batch的image和label\n",
    "        batch_xs, batch_ys = mnist.train.next_batch(batch_size)\n",
    "        feeds = {x: batch_xs, y: batch_ys}\n",
    "        sess.run(optimizer, feed_dict = feeds)\n",
    "        avg_cost += sess.run(cross_entropy, feed_dict=feeds) / num_batch\n",
    "    if epoch % 10 == 0:\n",
    "        train_feeds = {x: batch_xs, y: batch_ys}\n",
    "        test_feeds = {x: mnist.test.images, y: mnist.test.labels}\n",
    "        train_accuracy = sess.run(accuracy, feed_dict= train_feeds)\n",
    "        test_accuracy = sess.run(accuracy, feed_dict= test_feeds)\n",
    "        print('Epoch: %03d/%03d cost: %.9f train_acc: %.3f test_acc: %.3f' % (epoch, epochs, avg_cost, train_accuracy, test_accuracy))"
   ]
  },
  {
   "cell_type": "code",
   "execution_count": null,
   "metadata": {
    "collapsed": true
   },
   "outputs": [],
   "source": []
  }
 ],
 "metadata": {
  "anaconda-cloud": {},
  "kernelspec": {
   "display_name": "Python [conda root]",
   "language": "python",
   "name": "conda-root-py"
  },
  "language_info": {
   "codemirror_mode": {
    "name": "ipython",
    "version": 3
   },
   "file_extension": ".py",
   "mimetype": "text/x-python",
   "name": "python",
   "nbconvert_exporter": "python",
   "pygments_lexer": "ipython3",
   "version": "3.5.2"
  }
 },
 "nbformat": 4,
 "nbformat_minor": 1
}
